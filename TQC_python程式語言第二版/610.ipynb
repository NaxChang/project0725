{
 "cells": [
  {
   "cell_type": "code",
   "execution_count": 1,
   "metadata": {},
   "outputs": [
    {
     "ename": "ValueError",
     "evalue": "not enough values to unpack (expected 2, got 0)",
     "output_type": "error",
     "traceback": [
      "\u001b[1;31m---------------------------------------------------------------------------\u001b[0m",
      "\u001b[1;31mValueError\u001b[0m                                Traceback (most recent call last)",
      "Cell \u001b[1;32mIn[1], line 4\u001b[0m\n\u001b[0;32m      2\u001b[0m A, B \u001b[38;5;241m=\u001b[39m [], []\n\u001b[0;32m      3\u001b[0m ans \u001b[38;5;241m=\u001b[39m []\n\u001b[1;32m----> 4\u001b[0m m, n1 \u001b[38;5;241m=\u001b[39m \u001b[38;5;28mmap\u001b[39m(\u001b[38;5;28mint\u001b[39m, \u001b[38;5;28minput\u001b[39m()\u001b[38;5;241m.\u001b[39msplit())\n\u001b[0;32m      5\u001b[0m \u001b[38;5;28;01mfor\u001b[39;00m i \u001b[38;5;129;01min\u001b[39;00m \u001b[38;5;28mrange\u001b[39m(m):\n\u001b[0;32m      6\u001b[0m     A\u001b[38;5;241m.\u001b[39mappend(\u001b[38;5;28mlist\u001b[39m(\u001b[38;5;28mmap\u001b[39m(\u001b[38;5;28mint\u001b[39m, \u001b[38;5;28minput\u001b[39m()\u001b[38;5;241m.\u001b[39msplit())))\n",
      "\u001b[1;31mValueError\u001b[0m: not enough values to unpack (expected 2, got 0)"
     ]
    }
   ],
   "source": [
    "# 6-10\n",
    "A, B = [], []\n",
    "ans = []\n",
    "m, n1 = map(int, input().split())\n",
    "for i in range(m):\n",
    "    A.append(list(map(int, input().split())))\n",
    "n2, p = map(int, input().split())\n",
    "for i in range(n2):\n",
    "    B.append(list(map(int, input().split())))\n",
    "if n1 != n2:\n",
    "    print(\"error\")\n",
    "else:\n",
    "    L = []\n",
    "    for i in range(m):\n",
    "        LL = []\n",
    "        for j in range(p):\n",
    "            summ = 0\n",
    "            for k in range(n1):\n",
    "                summ += A[i][k] * B[k][j]\n",
    "            LL.append(summ)\n",
    "        L.append(LL)\n",
    "# print(L)\n",
    "for x in L:\n",
    "    # print(*x)\n",
    "    for i in range(len(x)):\n",
    "        if i == len(x) - 1:\n",
    "            print(x[i])\n",
    "        else:\n",
    "            print(x[i], end=\" \")\n"
   ]
  }
 ],
 "metadata": {
  "kernelspec": {
   "display_name": "myenv",
   "language": "python",
   "name": "python3"
  },
  "language_info": {
   "codemirror_mode": {
    "name": "ipython",
    "version": 3
   },
   "file_extension": ".py",
   "mimetype": "text/x-python",
   "name": "python",
   "nbconvert_exporter": "python",
   "pygments_lexer": "ipython3",
   "version": "3.12.1"
  }
 },
 "nbformat": 4,
 "nbformat_minor": 2
}
