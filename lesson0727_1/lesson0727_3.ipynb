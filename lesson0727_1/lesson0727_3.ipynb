{
 "cells": [
  {
   "cell_type": "code",
   "execution_count": 23,
   "metadata": {},
   "outputs": [
    {
     "name": "stdout",
     "output_type": "stream",
     "text": [
      "/home/nameless/Documents/GitHub/lesson0727_1/project0725/lesson0727_1/data\n",
      "檔案已經建立\n"
     ]
    },
    {
     "data": {
      "text/plain": [
       "'/home/nameless/Documents/GitHub/lesson0727_1/project0725/lesson0727_1/data/iot.log'"
      ]
     },
     "execution_count": 23,
     "metadata": {},
     "output_type": "execute_result"
    }
   ],
   "source": [
    "import os.path\n",
    "# 這是package提供的\n",
    "\n",
    "current_path = os.path.abspath(__name__)\n",
    "# 找出絕對路徑\n",
    "directory_name = os.path.dirname(current_path)\n",
    "# 找出文件夾\n",
    "data_path = os.path.join(directory_name,'data')\n",
    "# 找到data絕對目錄\n",
    "print(data_path)\n",
    "if not os.path.isdir(data_path):\n",
    "    print(\"沒有data的目錄,手動建立目錄\")\n",
    "    os.mkdir(data_path) \n",
    "else:\n",
    "    print(\"檔案已經建立\")\n",
    "\n",
    "log_path = os.path.join(data_path,'iot.log')\n",
    "# 最後一個不寫會列印在底下\n",
    "if not os.path.isfile(log_path):\n",
    "    print('沒有log檔')\n",
    "else:\n",
    "    print('有log檔')\n",
    "# 標準做法都是用絕對目錄,沒有相對目錄\n",
    "\n",
    "\n"
   ]
  },
  {
   "cell_type": "code",
   "execution_count": 2,
   "metadata": {},
   "outputs": [
    {
     "data": {
      "text/plain": [
       "'__main__'"
      ]
     },
     "execution_count": 2,
     "metadata": {},
     "output_type": "execute_result"
    }
   ],
   "source": [
    "__name__\n",
    "# 文件變數有個名字"
   ]
  },
  {
   "cell_type": "code",
   "execution_count": null,
   "metadata": {},
   "outputs": [],
   "source": []
  }
 ],
 "metadata": {
  "kernelspec": {
   "display_name": "venv1",
   "language": "python",
   "name": "python3"
  },
  "language_info": {
   "codemirror_mode": {
    "name": "ipython",
    "version": 3
   },
   "file_extension": ".py",
   "mimetype": "text/x-python",
   "name": "python",
   "nbconvert_exporter": "python",
   "pygments_lexer": "ipython3",
   "version": "3.11.2"
  }
 },
 "nbformat": 4,
 "nbformat_minor": 2
}
