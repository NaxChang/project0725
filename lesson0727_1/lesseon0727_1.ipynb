{
 "cells": [
  {
   "cell_type": "code",
   "execution_count": 1,
   "metadata": {},
   "outputs": [
    {
     "name": "stdout",
     "output_type": "stream",
     "text": [
      "\n",
      "12,12.0,12.0,abc,efg\n",
      "12,12.0,12.0,abc,efg.\n"
     ]
    }
   ],
   "source": [
    "\n",
    "print()\n",
    "print(12,12.0,'12.0','abc',\"efg\",sep=',')\n",
    "print(12,12.0,'12.0','abc',\"efg\",sep=',',end='.\\n')"
   ]
  },
  {
   "cell_type": "code",
   "execution_count": 2,
   "metadata": {},
   "outputs": [
    {
     "name": "stdout",
     "output_type": "stream",
     "text": [
      "robert 78 89.0 65.0\n",
      "<class 'str'>\n",
      "<class 'int'>\n",
      "<class 'float'>\n"
     ]
    }
   ],
   "source": [
    "name = 'robert'\n",
    "chinese = 78\n",
    "english = 89.0\n",
    "math = 65.0\n",
    "print(name,chinese,english,math)\n",
    "print(type(name))\n",
    "print(type(chinese))\n",
    "print(type(english))"
   ]
  },
  {
   "cell_type": "code",
   "execution_count": 28,
   "metadata": {},
   "outputs": [
    {
     "data": {
      "text/plain": [
       "4"
      ]
     },
     "execution_count": 28,
     "metadata": {},
     "output_type": "execute_result"
    }
   ],
   "source": [
    "import random\n",
    "\n",
    "randnum = random.randint(2,4)\n",
    "randnum\n",
    "# 隨機整數\n",
    "# 回傳一個隨機整數 N，使得 a <= N <= b。為 randrange(a, b+1) 的別名。\n",
    "# 先做事的先打,等於的最後打"
   ]
  },
  {
   "cell_type": "code",
   "execution_count": 2,
   "metadata": {},
   "outputs": [
    {
     "name": "stdout",
     "output_type": "stream",
     "text": [
      "13\n",
      "27\n",
      "53\n",
      "80\n",
      "2\n"
     ]
    },
    {
     "ename": "NameError",
     "evalue": "name 'prinit' is not defined",
     "output_type": "error",
     "traceback": [
      "\u001b[0;31m---------------------------------------------------------------------------\u001b[0m",
      "\u001b[0;31mNameError\u001b[0m                                 Traceback (most recent call last)",
      "Cell \u001b[0;32mIn[2], line 7\u001b[0m\n\u001b[1;32m      5\u001b[0m \u001b[38;5;28mprint\u001b[39m((\u001b[38;5;241m3\u001b[39m \u001b[38;5;241m+\u001b[39m \u001b[38;5;241m5\u001b[39m) \u001b[38;5;241m*\u001b[39m\u001b[38;5;241m10\u001b[39m )\n\u001b[1;32m      6\u001b[0m \u001b[38;5;28mprint\u001b[39m(\u001b[38;5;241m7\u001b[39m \u001b[38;5;241m/\u001b[39m\u001b[38;5;241m/\u001b[39m \u001b[38;5;241m3\u001b[39m)\n\u001b[0;32m----> 7\u001b[0m \u001b[43mprinit\u001b[49m(\u001b[38;5;241m7\u001b[39m \u001b[38;5;241m%\u001b[39m \u001b[38;5;241m3\u001b[39m)\n",
      "\u001b[0;31mNameError\u001b[0m: name 'prinit' is not defined"
     ]
    }
   ],
   "source": [
    "# 數學運算\n",
    "print(5 + 8)\n",
    "print(3 ** 3)\n",
    "print(3 + 5 *10)\n",
    "print((3 + 5) *10 )\n",
    "print(7 // 3)\n",
    "print(7 % 3)\n"
   ]
  }
 ],
 "metadata": {
  "kernelspec": {
   "display_name": "venv1",
   "language": "python",
   "name": "python3"
  },
  "language_info": {
   "codemirror_mode": {
    "name": "ipython",
    "version": 3
   },
   "file_extension": ".py",
   "mimetype": "text/x-python",
   "name": "python",
   "nbconvert_exporter": "python",
   "pygments_lexer": "ipython3",
   "version": "3.11.2"
  }
 },
 "nbformat": 4,
 "nbformat_minor": 2
}
