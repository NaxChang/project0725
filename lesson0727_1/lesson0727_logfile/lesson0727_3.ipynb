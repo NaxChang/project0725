{
 "cells": [
  {
   "cell_type": "code",
   "execution_count": 9,
   "metadata": {},
   "outputs": [
    {
     "name": "stdout",
     "output_type": "stream",
     "text": [
      "/home/nameless/Documents/GitHub/lesson0727_1/project0725/lesson0727_1/lesson0727_logfile/data\n",
      "目錄已經建立\n",
      "有log檔\n"
     ]
    }
   ],
   "source": [
    "import os.path\n",
    "import os\n",
    "\n",
    "current_path = os.path.abspath(__name__) #取得目前檔案路徑\n",
    "directory_name = os.path.dirname(current_path) #取得目前資料夾路行\n",
    "data_path = os.path.join(directory_name,'data') #目前資料夾路徑加上data目錄\n",
    "print(data_path)\n",
    "if not os.path.isdir(data_path):\n",
    "    print(\"沒有data的目錄,手動建立目錄\")\n",
    "    os.mkdir(data_path)\n",
    "else:\n",
    "    print(\"目錄已經建立\")\n",
    "\n",
    "log_path = os.path.join(data_path,'iot.log')\n",
    "if not os.path.isfile(log_path):\n",
    "    with open(log_path,mode='w',encoding='utf-8',newline='')as file:\n",
    "        file.write('時間,濕度,溫度,天氣\\n')\n",
    "    # file = open(log_path,mode='w',encoding='utf-8',newline='')\n",
    "    # file.write('時間,濕度,溫度,天氣\\n')\n",
    "    # file.close()\n",
    "else:\n",
    "    print(\"有log檔\")\n",
    "\n",
    "# import os\n",
    "# import os.path\n",
    "# # 這是package提供的\n",
    "\n",
    "# current_path = os.path.abspath(__name__)\n",
    "# # 找出絕對路徑\n",
    "# directory_name = os.path.dirname(current_path)\n",
    "# # 找出文件夾\n",
    "# data_path = os.path.join(directory_name,'data')\n",
    "# # 找到data絕對目錄\n",
    "# print(data_path)\n",
    "# if not os.path.isdir(data_path):\n",
    "#     print(\"沒有data的目錄,手動建立目錄\")\n",
    "#     os.mkdir(data_path) \n",
    "# else:\n",
    "#     print(\"目錄已經建立\")\n",
    "\n",
    "# log_path = os.path.join(data_path,'iot.log')\n",
    "# # 最後一個不寫會列印在底下\n",
    "# if not os.path.isfile(log_path):\n",
    "#     file = open(log_path,mode = 'w', encoding='utf-8',newline='')\n",
    "#     file.write('時間,濕度,溫度\\n')\n",
    "#     file.close()\n",
    "# else:\n",
    "#     print('有log檔')\n",
    "# # 標準做法都是用絕對目錄,沒有相對目錄\n",
    "\n",
    "\n"
   ]
  },
  {
   "cell_type": "code",
   "execution_count": null,
   "metadata": {},
   "outputs": [],
   "source": []
  },
  {
   "cell_type": "code",
   "execution_count": 37,
   "metadata": {},
   "outputs": [
    {
     "data": {
      "text/plain": [
       "'__main__'"
      ]
     },
     "execution_count": 37,
     "metadata": {},
     "output_type": "execute_result"
    }
   ],
   "source": [
    "__name__\n",
    "# 文件變數有個名字"
   ]
  },
  {
   "cell_type": "code",
   "execution_count": 18,
   "metadata": {},
   "outputs": [],
   "source": [
    "from datetime import datetime\n",
    "now = datetime.now()\n",
    "now_str = now.strftime(\"%Y-%m-%d %H:%M:%S\")\n",
    "\n",
    "with open(log_path,mode = 'a',encoding = 'utf8')as file:\n",
    "    file.write(now_str +  ',61.5,30.25\\n')"
   ]
  },
  {
   "cell_type": "code",
   "execution_count": 14,
   "metadata": {},
   "outputs": [
    {
     "name": "stdout",
     "output_type": "stream",
     "text": [
      "2024\n",
      "7\n",
      "27\n",
      "15\n",
      "58\n",
      "12\n"
     ]
    }
   ],
   "source": [
    "from datetime import datetime \n",
    "\n",
    "\n",
    "now = datetime .now()\n",
    "print(now.year)\n",
    "print(now.month)\n",
    "print(now.day)\n",
    "print(now.hour)\n",
    "print(now.minute)\n",
    "print(now.second)\n",
    "\n",
    "#來自於電腦目前時間"
   ]
  },
  {
   "cell_type": "code",
   "execution_count": 13,
   "metadata": {},
   "outputs": [
    {
     "data": {
      "text/plain": [
       "'2024-07-27 15:47:30'"
      ]
     },
     "execution_count": 13,
     "metadata": {},
     "output_type": "execute_result"
    }
   ],
   "source": [
    "now.strftime(\"%Y-%m-%d %H:%M:%S\")"
   ]
  }
 ],
 "metadata": {
  "kernelspec": {
   "display_name": "venv1",
   "language": "python",
   "name": "python3"
  },
  "language_info": {
   "codemirror_mode": {
    "name": "ipython",
    "version": 3
   },
   "file_extension": ".py",
   "mimetype": "text/x-python",
   "name": "python",
   "nbconvert_exporter": "python",
   "pygments_lexer": "ipython3",
   "version": "3.11.2"
  }
 },
 "nbformat": 4,
 "nbformat_minor": 2
}
